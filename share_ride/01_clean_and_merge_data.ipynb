{
 "cells": [
  {
   "cell_type": "code",
   "execution_count": null,
   "metadata": {
    "id": "Oh7zwMV6gGgR"
   },
   "outputs": [],
   "source": [
    "#@title Import libraries\n",
    "\n",
    "import numpy as np\n",
    "import pandas as pd\n",
    "import matplotlib.pyplot as plt\n",
    "import seaborn as sns\n",
    "\n",
    "\n",
    "from sklearn import linear_model\n",
    "from sklearn.preprocessing import PolynomialFeatures\n",
    "from sklearn.model_selection import train_test_split\n",
    "from sklearn.model_selection import cross_validate\n",
    "from sklearn.feature_selection import SelectFromModel\n",
    "from sklearn.pipeline import Pipeline\n",
    "from sklearn.model_selection import GridSearchCV\n",
    "from sklearn.preprocessing import normalize\n",
    "import missingno as msno\n",
    "\n",
    "np.random.seed(42)\n",
    "%matplotlib inline"
   ]
  },
  {
   "cell_type": "code",
   "execution_count": null,
   "metadata": {
    "id": "PRG-Ft1OOXA1"
   },
   "outputs": [],
   "source": [
    "df4 = pd.read_csv(\"April.csv\")"
   ]
  },
  {
   "cell_type": "code",
   "execution_count": null,
   "metadata": {
    "colab": {
     "base_uri": "https://localhost:8080/"
    },
    "id": "oyH0XySoOvdw",
    "outputId": "808a428b-5320-437d-fd4b-a80b50555104"
   },
   "outputs": [
    {
     "data": {
      "text/plain": [
       "Index(['Trip ID', 'Trip Start Timestamp', 'Trip End Timestamp', 'Trip Seconds',\n",
       "       'Trip Miles', 'Pickup Census Tract', 'Dropoff Census Tract',\n",
       "       'Pickup Community Area', 'Dropoff Community Area', 'Fare', 'Tip',\n",
       "       'Additional Charges', 'Trip Total', 'Shared Trip Authorized',\n",
       "       'Trips Pooled', 'Pickup Centroid Latitude', 'Pickup Centroid Longitude',\n",
       "       'Pickup Centroid Location', 'Dropoff Centroid Latitude',\n",
       "       'Dropoff Centroid Longitude', 'Dropoff Centroid Location'],\n",
       "      dtype='object')"
      ]
     },
     "execution_count": 10,
     "metadata": {},
     "output_type": "execute_result"
    }
   ],
   "source": [
    "df4.columns"
   ]
  },
  {
   "cell_type": "code",
   "execution_count": null,
   "metadata": {},
   "outputs": [],
   "source": [
    "df4=df4.drop(['Trip ID',  'Pickup Census Tract', 'Dropoff Census Tract', 'Shared Trip Authorized','Trips Pooled', 'Pickup Centroid Location',  'Dropoff Centroid Location'],axis=1)"
   ]
  },
  {
   "cell_type": "code",
   "execution_count": null,
   "metadata": {
    "id": "dW9bFgmsOmXm"
   },
   "outputs": [],
   "source": [
    "df5 = pd.read_csv(\"May.csv\")\n",
    "df5=df5.drop(['Trip ID',  'Pickup Census Tract', 'Dropoff Census Tract', 'Shared Trip Authorized','Trips Pooled', 'Pickup Centroid Location',  'Dropoff Centroid Location'],axis=1)"
   ]
  },
  {
   "cell_type": "code",
   "execution_count": null,
   "metadata": {
    "id": "-7amr6CqQy-E"
   },
   "outputs": [],
   "source": [
    "df6 = pd.read_csv(\"June.csv\")\n",
    "df6=df6.drop(['Trip ID',  'Pickup Census Tract', 'Dropoff Census Tract', 'Shared Trip Authorized','Trips Pooled', 'Pickup Centroid Location',  'Dropoff Centroid Location'],axis=1)"
   ]
  },
  {
   "cell_type": "code",
   "execution_count": null,
   "metadata": {
    "id": "l3MXYa_aRH2a"
   },
   "outputs": [],
   "source": [
    "df7 = pd.read_csv(\"July.csv\")\n",
    "df7=df7.drop(['Trip ID',  'Pickup Census Tract', 'Dropoff Census Tract', 'Shared Trip Authorized','Trips Pooled', 'Pickup Centroid Location',  'Dropoff Centroid Location'],axis=1)"
   ]
  },
  {
   "cell_type": "code",
   "execution_count": null,
   "metadata": {
    "id": "gdMyRoqDRG9l"
   },
   "outputs": [],
   "source": [
    "df8 = pd.read_csv(\"August.csv\")\n",
    "df8=df8.drop(['Trip ID',  'Pickup Census Tract', 'Dropoff Census Tract', 'Shared Trip Authorized','Trips Pooled', 'Pickup Centroid Location',  'Dropoff Centroid Location'],axis=1)"
   ]
  },
  {
   "cell_type": "code",
   "execution_count": null,
   "metadata": {
    "id": "0yuBYEtvf_Ch"
   },
   "outputs": [],
   "source": [
    "df=df4.append(df5).append(df6).append(df7).append(df8)"
   ]
  },
  {
   "cell_type": "code",
   "execution_count": null,
   "metadata": {
    "colab": {
     "base_uri": "https://localhost:8080/"
    },
    "id": "f8PzetYogDZC",
    "outputId": "1fdc54f2-be4f-4eb5-8ce6-c1941f1b81e7"
   },
   "outputs": [
    {
     "name": "stdout",
     "output_type": "stream",
     "text": [
      "Copying file://share_ride_data.csv [Content-Type=text/csv]...\n",
      "/ [0 files][    0.0 B/  2.2 GiB]                                                \r",
      "==> NOTE: You are uploading one or more large file(s), which would run\n",
      "significantly faster if you enable parallel composite uploads. This\n",
      "feature can be enabled by editing the\n",
      "\"parallel_composite_upload_threshold\" value in your .boto\n",
      "configuration file. However, note that if you do this large files will\n",
      "be uploaded as `composite objects\n",
      "<https://cloud.google.com/storage/docs/composite-objects>`_,which\n",
      "means that any user who downloads such objects will need to have a\n",
      "compiled crcmod installed (see \"gsutil help crcmod\"). This is because\n",
      "without a compiled crcmod, computing checksums on composite objects is\n",
      "so slow that gsutil disables downloads of composite objects.\n",
      "\n",
      "/\n",
      "Operation completed over 1 objects/2.2 GiB.                                      \n"
     ]
    }
   ],
   "source": [
    "df.to_csv('share_ride_data.csv', index = False)"
   ]
  }
 ],
 "metadata": {
  "colab": {
   "name": "drive_cloudbucket.ipynb",
   "provenance": []
  },
  "kernelspec": {
   "display_name": "Python 3 (ipykernel)",
   "language": "python",
   "name": "python3"
  },
  "language_info": {
   "codemirror_mode": {
    "name": "ipython",
    "version": 3
   },
   "file_extension": ".py",
   "mimetype": "text/x-python",
   "name": "python",
   "nbconvert_exporter": "python",
   "pygments_lexer": "ipython3",
   "version": "3.8.12"
  }
 },
 "nbformat": 4,
 "nbformat_minor": 1
}
