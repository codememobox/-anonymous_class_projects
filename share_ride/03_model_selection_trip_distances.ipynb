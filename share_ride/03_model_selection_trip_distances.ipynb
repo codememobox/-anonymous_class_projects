{
 "cells": [
  {
   "cell_type": "markdown",
   "id": "3579ac4e",
   "metadata": {},
   "source": [
    "# 1. Load files and EDA"
   ]
  },
  {
   "cell_type": "code",
   "execution_count": null,
   "id": "963fd30b",
   "metadata": {},
   "outputs": [],
   "source": [
    "### 1.1 load files, and add tipDefault columns for tips prediction#@title Import libraries\n",
    "\n",
    "import numpy as np\n",
    "import pandas as pd\n",
    "import matplotlib.pyplot as plt\n",
    "\n",
    "\n",
    "from sklearn import linear_model\n",
    "from sklearn.preprocessing import PolynomialFeatures\n",
    "from sklearn.model_selection import train_test_split\n",
    "from sklearn.model_selection import cross_validate\n",
    "from sklearn.feature_selection import SelectFromModel\n",
    "from sklearn.pipeline import Pipeline\n",
    "from sklearn.model_selection import GridSearchCV\n",
    "from sklearn.preprocessing import normalize\n",
    "import datetime as dt\n",
    "\n",
    "np.random.seed(42)\n",
    "%matplotlib inline"
   ]
  },
  {
   "cell_type": "markdown",
   "id": "6b783de4",
   "metadata": {},
   "source": [
    "## 1.1 load files"
   ]
  },
  {
   "cell_type": "code",
   "execution_count": null,
   "id": "1943e281",
   "metadata": {},
   "outputs": [],
   "source": [
    "df = pd.read_csv(\"share_ride_data.csv\")\n",
    "df = df.sample(frac=0.02, random_state=42)"
   ]
  },
  {
   "cell_type": "markdown",
   "id": "19eede60",
   "metadata": {},
   "source": [
    "1.2 Features engeneering part 1: OneHotEncoding"
   ]
  },
  {
   "cell_type": "code",
   "execution_count": null,
   "id": "4e67b30c",
   "metadata": {},
   "outputs": [],
   "source": [
    "# use OneHotEncoding add features describe day of the week; time of the day\n",
    "from sklearn.preprocessing import OneHotEncoder\n",
    "df[\"pickupHour\"] = pd.to_datetime(df[\"Trip Start Timestamp\"], format='%m/%d/%Y %I:%M:%S %p').dt.hour\n",
    "df[\"pickDayofweek\"] = pd.to_datetime(df[\"Trip Start Timestamp\"], format='%m/%d/%Y %I:%M:%S %p').dt.weekday\n",
    "df.drop_duplicates(subset=[\"pickupHour\",\"pickDayofweek\",\"Pickup Community Area\",\"Dropoff Community Area\",'Pickup Centroid Latitude','Pickup Centroid Longitude'], inplace= True, keep='last')\n",
    "encoder = OneHotEncoder(sparse=False)\n",
    "onehot_encoded = encoder.fit_transform(df[[\"pickupHour\",\"pickDayofweek\",\"Pickup Community Area\",\"Dropoff Community Area\"]])\n",
    "onehot_encoded_frame = pd.DataFrame(onehot_encoded,columns = encoder.get_feature_names(['hourofday', 'dayofweek','pickuparea','dropoffarea']))"
   ]
  },
  {
   "cell_type": "markdown",
   "id": "5471107f",
   "metadata": {},
   "source": [
    "# 2. modeling\n",
    "## 2.1 features for modeling"
   ]
  },
  {
   "cell_type": "code",
   "execution_count": null,
   "id": "312b54eb",
   "metadata": {},
   "outputs": [],
   "source": [
    "y = df['Trip Miles']\n",
    "fea = df[['Pickup Centroid Latitude','Pickup Centroid Longitude']]\n",
    "# combine original features and onehot_encoded_frame\n",
    "features = pd.concat([onehot_encoded_frame.reset_index(),fea.reset_index()], axis=1)"
   ]
  },
  {
   "cell_type": "markdown",
   "id": "3176ba00",
   "metadata": {},
   "source": [
    "## 2.2 Preparation\n",
    "Split the training data into training/validation sets for cross validation (hyperparameter tuning)."
   ]
  },
  {
   "cell_type": "code",
   "execution_count": null,
   "id": "84043b12",
   "metadata": {},
   "outputs": [],
   "source": [
    "# split into 0.8 training dataset and 0.2 test dataset\n",
    "X_t, X_test, y_t, y_test = train_test_split(features,y, test_size=0.2, random_state=42)\n",
    "# #split into 0.6 training dataset 0.2 validation dataset \n",
    "X_train, X_val, y_train,y_val = train_test_split(X_t, y_t, test_size=0.2, random_state=42)"
   ]
  },
  {
   "cell_type": "markdown",
   "id": "1dc55961",
   "metadata": {},
   "source": [
    "## 2.2 Basic Random forest"
   ]
  },
  {
   "cell_type": "code",
   "execution_count": null,
   "id": "8062aff6",
   "metadata": {},
   "outputs": [],
   "source": [
    "from sklearn.ensemble import RandomForestRegressor\n",
    "from sklearn.metrics import mean_squared_error"
   ]
  },
  {
   "cell_type": "code",
   "execution_count": null,
   "id": "0609d6ca",
   "metadata": {},
   "outputs": [],
   "source": [
    "# random forest with normalized features\n",
    "forest_1 = RandomForestRegressor(random_state=0)\n",
    "forest_1.fit(X_train, y_train)\n",
    "y_pred_train = forest_1.predict(X_train)\n",
    "y_pred_f = forest_1.predict(X_val)"
   ]
  },
  {
   "cell_type": "code",
   "execution_count": null,
   "id": "60674cf0",
   "metadata": {},
   "outputs": [],
   "source": [
    "#calculate rmse for training and validation \n",
    "print('in-sample rmse:', mean_squared_error(y_train, y_pred_train, squared=False))\n",
    "print('out-sample rmse:', mean_squared_error(y_val, y_pred_f, squared=False))"
   ]
  },
  {
   "cell_type": "markdown",
   "id": "c201544f",
   "metadata": {},
   "source": [
    "## 2.3 Hyperparameter tuning Random Forest"
   ]
  },
  {
   "cell_type": "code",
   "execution_count": null,
   "id": "3fe7a20a",
   "metadata": {},
   "outputs": [],
   "source": [
    "from sklearn.metrics import r2_score, mean_squared_error, make_scorer"
   ]
  },
  {
   "cell_type": "code",
   "execution_count": null,
   "id": "c52b15fa",
   "metadata": {},
   "outputs": [],
   "source": [
    "def RMSE(y_true,y_pred):\n",
    "    mse = mean_squared_error(y_true, y_pred, squared=False)\n",
    "    return rmse\n",
    "\n",
    "def R2(y_true,y_pred):    \n",
    "    r2 = r2_score(y_true, y_pred)\n",
    "    return r2\n",
    "\n",
    "def two_score(y_true,y_pred):    \n",
    "    RMSE(y_true,y_pred) #set score here and not below if using MSE in GridCV\n",
    "    score = R2(y_true,y_pred)\n",
    "    return score\n",
    "\n",
    "def two_scorer():\n",
    "    return make_scorer(two_score, greater_is_better=True) # change for false if using MSE"
   ]
  },
  {
   "cell_type": "code",
   "execution_count": null,
   "id": "df306464",
   "metadata": {},
   "outputs": [],
   "source": [
    "# Hyperparameter tuning for random forest \n",
    "parameters = {'max_depth': np.arange(2,5), 'min_samples_split': np.arange(2,50,10), 'min_samples_leaf': np.arange(1,50,10)}\n",
    "model = RandomForestRegressor()\n",
    "clf = GridSearchCV(model, parameters, cv=5, scoring=two_scorer(),n_jobs=-1)\n",
    "clf.fit(X_t, y_t)\n",
    "best_max_depth = clf.best_params_['max_depth']\n",
    "best_min_samples_split = clf.best_params_['min_samples_split']\n",
    "best_min_samples_leaf = clf.best_params_['min_samples_leaf']"
   ]
  },
  {
   "cell_type": "code",
   "execution_count": null,
   "id": "18a8c76e",
   "metadata": {},
   "outputs": [],
   "source": [
    "forest_best =RandomForestRegressor( max_depth= best_max_depth, min_samples_split= best_min_samples_split, min_samples_leaf = best_min_samples_leaf)\n",
    "forest_best.fit(X_t, y_t)"
   ]
  },
  {
   "cell_type": "code",
   "execution_count": null,
   "id": "daf39d16",
   "metadata": {},
   "outputs": [],
   "source": [
    "y_pred_train_b = forest_best.predict(X_train)\n",
    "y_pred_b = forest_best.predict(X_val)"
   ]
  },
  {
   "cell_type": "code",
   "execution_count": null,
   "id": "f6a810d2",
   "metadata": {},
   "outputs": [],
   "source": [
    "print('in-sample rmse:', mean_squared_error(y_train, y_pred_train_b, squared=False))\n",
    "print('out-sample rmse:', mean_squared_error(y_val, y_pred_b, squared=False))"
   ]
  },
  {
   "cell_type": "markdown",
   "id": "9c636fc7",
   "metadata": {},
   "source": [
    "## 2.4 summary\n",
    "with Hyperparameter tuning overfitting problem solved"
   ]
  },
  {
   "cell_type": "code",
   "execution_count": null,
   "id": "865c898f",
   "metadata": {},
   "outputs": [],
   "source": []
  }
 ],
 "metadata": {
  "kernelspec": {
   "display_name": "Python 3 (ipykernel)",
   "language": "python",
   "name": "python3"
  },
  "language_info": {
   "codemirror_mode": {
    "name": "ipython",
    "version": 3
   },
   "file_extension": ".py",
   "mimetype": "text/x-python",
   "name": "python",
   "nbconvert_exporter": "python",
   "pygments_lexer": "ipython3",
   "version": "3.8.12"
  }
 },
 "nbformat": 4,
 "nbformat_minor": 5
}
